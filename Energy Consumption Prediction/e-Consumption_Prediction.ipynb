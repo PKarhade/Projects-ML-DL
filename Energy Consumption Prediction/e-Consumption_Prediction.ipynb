{
 "cells": [
  {
   "cell_type": "markdown",
   "metadata": {},
   "source": [
    "IMPORTING ALL THE REQUIRED MODULES AND LIBRARIES "
   ]
  },
  {
   "cell_type": "code",
   "execution_count": 1,
   "metadata": {},
   "outputs": [],
   "source": [
    "import pandas as pd\n",
    "import lightgbm as lgb\n",
    "from sklearn.preprocessing import LabelEncoder\n",
    "from sklearn.model_selection import train_test_split\n",
    "from sklearn.preprocessing import RobustScaler\n",
    "from sklearn.linear_model import LinearRegression as lr\n",
    "from sklearn.linear_model import ElasticNet\n",
    "from lightgbm import LGBMModel\n",
    "from sklearn.model_selection import GridSearchCV\n",
    "from sklearn.metrics import mean_squared_error, make_scorer"
   ]
  },
  {
   "cell_type": "markdown",
   "metadata": {},
   "source": [
    "DATA PRE-PROCESSING :"
   ]
  },
  {
   "cell_type": "markdown",
   "metadata": {},
   "source": [
    "READING OUR DATASET\n",
    "SEPEARTING THE TARGET COLUMN IN A VARIABLE\n",
    "DROPPING SOME OF THE DEPENDENT COLUMNS"
   ]
  },
  {
   "cell_type": "code",
   "execution_count": 2,
   "metadata": {},
   "outputs": [
    {
     "name": "stderr",
     "output_type": "stream",
     "text": [
      "/home/sri/anaconda3/lib/python3.6/site-packages/IPython/core/interactiveshell.py:2728: DtypeWarning: Columns (717,718) have mixed types. Specify dtype option on import or set low_memory=False.\n",
      "  interactivity=interactivity, compiler=compiler, result=result)\n"
     ]
    },
    {
     "data": {
      "text/plain": [
       "(12083, 933)"
      ]
     },
     "execution_count": 2,
     "metadata": {},
     "output_type": "execute_result"
    }
   ],
   "source": [
    "df = pd.read_csv(\"recs2009_public.csv\")\n",
    "y = df['KWH']\n",
    "X=df.drop(['DOEID','KWH','REGIONC','REPORTABLE_DOMAIN','HDD65','CDD65','YEARMADE'],axis=1)\n",
    "X.shape"
   ]
  },
  {
   "cell_type": "markdown",
   "metadata": {},
   "source": [
    "SEPERATING THE FEATURES IN THREE LISTS FOR PRE-PROCESSING"
   ]
  },
  {
   "cell_type": "code",
   "execution_count": 3,
   "metadata": {},
   "outputs": [
    {
     "name": "stdout",
     "output_type": "stream",
     "text": [
      "135\n",
      "5\n",
      "792\n"
     ]
    }
   ],
   "source": [
    "categorical=[]\n",
    "numerical = []\n",
    "num_categorical=[]\n",
    "for col in X.columns:\n",
    "    if col == 'NWEIGHT' : continue\n",
    "    if X[col].dtype=='object':\n",
    "        categorical.append(col)\n",
    "    elif X[col].nunique()< 10:\n",
    "        num_categorical.append(col)\n",
    "    else :\n",
    "        numerical.append(col)\n",
    "\n",
    "print(len(numerical))\n",
    "print(len(categorical))\n",
    "print(len(num_categorical))"
   ]
  },
  {
   "cell_type": "markdown",
   "metadata": {},
   "source": [
    "CHECKING IF THERE ARE ANY MISSING VALUES.\n",
    "THE SUPPORTING DOCUMENTS SAYS THE MISSING VALUES WERE IMPUTED, SO THIS WAS JUST TRUTH CHECKING!"
   ]
  },
  {
   "cell_type": "code",
   "execution_count": 4,
   "metadata": {},
   "outputs": [
    {
     "data": {
      "text/plain": [
       "False"
      ]
     },
     "execution_count": 4,
     "metadata": {},
     "output_type": "execute_result"
    }
   ],
   "source": [
    "X.isna().any().all()"
   ]
  },
  {
   "cell_type": "markdown",
   "metadata": {},
   "source": [
    "APPLYING LABEL ENCODING TO \"object\" TYPE FEATURES (THE FEATURES IN THE LIST NAMED \"categorical\")"
   ]
  },
  {
   "cell_type": "code",
   "execution_count": 5,
   "metadata": {},
   "outputs": [
    {
     "name": "stdout",
     "output_type": "stream",
     "text": [
      "['METRO' 'MICRO' 'NONE']\n",
      "[0 1 2]\n",
      "['U' 'R']\n",
      "[1 0]\n",
      "['-2' '1' '6' '15' '4' '20' '.' '12' '10' '3' '24' '55' '8' '28' '5' '16'\n",
      " '2' '40' '25']\n",
      "[ 0  2 17  5 13  8  1  4  3 12  9 16 18 11 15  6  7 14 10]\n",
      "['-2' '1' '5' '10' '15' '8' '.' '3' '2' '77' '30' '55' '20']\n",
      "[ 0  2  9  3  4 12  1  7  5 11  8 10  6]\n",
      "['4A' '3C' '5A' '6A-6B' '1A-2A' '3B-4B' '3A' '5B-5C' '7A-7B-7AK-8AK' '2B'\n",
      " '4C']\n",
      "[ 5  4  7  9  0  3  2  8 10  1  6]\n"
     ]
    }
   ],
   "source": [
    "for i in categorical:\n",
    "    le = LabelEncoder()\n",
    "    X[i] = X[i].apply(str)\n",
    "    print(X[i].unique())\n",
    "    X[i]=le.fit_transform(X[i])\n",
    "    print(X[i].unique())"
   ]
  },
  {
   "cell_type": "markdown",
   "metadata": {},
   "source": [
    "SPLITTING THE DATA INTO TRAIN(80%) & TEST (20%).\n",
    "GETTING WEIGHTS FOR TRAIN TEST AND ENTIRE SET (WE WILL USE THESE WEIGHTS DURING TRAINING & FINDING TEST MSE).\n",
    "DROPPING \"NWEIGHT\" FROM ALL THE INPUTS."
   ]
  },
  {
   "cell_type": "code",
   "execution_count": 6,
   "metadata": {},
   "outputs": [
    {
     "name": "stderr",
     "output_type": "stream",
     "text": [
      "/home/sri/anaconda3/lib/python3.6/site-packages/pandas/core/frame.py:3930: SettingWithCopyWarning: \n",
      "A value is trying to be set on a copy of a slice from a DataFrame\n",
      "\n",
      "See the caveats in the documentation: http://pandas.pydata.org/pandas-docs/stable/indexing.html#indexing-view-versus-copy\n",
      "  errors=errors)\n"
     ]
    }
   ],
   "source": [
    "Xtr,Xte,ytr,yte = train_test_split(X,y)\n",
    "train_wts = Xtr['NWEIGHT']\n",
    "test_wts = Xte['NWEIGHT']\n",
    "total_wts = X['NWEIGHT']\n",
    "X.drop('NWEIGHT',axis=1,inplace=True)\n",
    "Xtr.drop('NWEIGHT',axis=1,inplace=True)\n",
    "Xte.drop('NWEIGHT',axis=1,inplace=True)"
   ]
  },
  {
   "cell_type": "markdown",
   "metadata": {},
   "source": [
    "APPLYING ROBUST SCALER TO NUMERICAL FEATURES IN TRAIN SET.\n",
    "USING ABOVE MEDIAN & RANGE,TRANSFORMING THE NUMERICAL FEATURES IN TEST SET.\n",
    "WE CAN OBSERVE THE MEDIAN VALUES OF TRAIN SET NUMERICAL FEATURES BEFORE & AFTER SCALING."
   ]
  },
  {
   "cell_type": "code",
   "execution_count": 7,
   "metadata": {
    "scrolled": false
   },
   "outputs": [
    {
     "name": "stderr",
     "output_type": "stream",
     "text": [
      "/home/sri/anaconda3/lib/python3.6/site-packages/ipykernel_launcher.py:3: SettingWithCopyWarning: \n",
      "A value is trying to be set on a copy of a slice from a DataFrame.\n",
      "Try using .loc[row_indexer,col_indexer] = value instead\n",
      "\n",
      "See the caveats in the documentation: http://pandas.pydata.org/pandas-docs/stable/indexing.html#indexing-view-versus-copy\n",
      "  This is separate from the ipykernel package so we can avoid doing imports until\n",
      "/home/sri/anaconda3/lib/python3.6/site-packages/pandas/core/indexing.py:543: SettingWithCopyWarning: \n",
      "A value is trying to be set on a copy of a slice from a DataFrame.\n",
      "Try using .loc[row_indexer,col_indexer] = value instead\n",
      "\n",
      "See the caveats in the documentation: http://pandas.pydata.org/pandas-docs/stable/indexing.html#indexing-view-versus-copy\n",
      "  self.obj[item] = s\n"
     ]
    },
    {
     "name": "stdout",
     "output_type": "stream",
     "text": [
      "Medians before scaling:\n",
      " DIVISION            5.0\n",
      "HDD30YR          4473.5\n",
      "CDD30YR          1190.0\n",
      "NUMFLRS            -2.0\n",
      "NUMAPTS            -2.0\n",
      "BEDROOMS            3.0\n",
      "OTHROOMS            3.0\n",
      "TOTROOMS            6.0\n",
      "MONRFRI2           -2.0\n",
      "MONRFRI3           -2.0\n",
      "TVCOLOR             2.0\n",
      "NUMPC               1.0\n",
      "EQUIPNOHEAT        -2.0\n",
      "EQUIPM              3.0\n",
      "FUELHEAT            1.0\n",
      "HEATROOM            5.0\n",
      "TEMPHOME           70.0\n",
      "TEMPGONE           68.0\n",
      "TEMPNITE           68.0\n",
      "ACROOMS             4.0\n",
      "TEMPHOMEAC         -2.0\n",
      "TEMPGONEAC         -2.0\n",
      "TEMPNITEAC         -2.0\n",
      "NUMBERAC           -2.0\n",
      "NUMCFAN             2.0\n",
      "LGT12               0.0\n",
      "LGT12EE            -2.0\n",
      "LGT4                1.0\n",
      "LGT4EE              0.0\n",
      "LGT1                2.0\n",
      "                 ...   \n",
      "GALLONKERSPH        0.0\n",
      "GALLONKEROTH        0.0\n",
      "BTUKER              0.0\n",
      "BTUKERSPH           0.0\n",
      "BTUKEROTH           0.0\n",
      "DOLLARKER           0.0\n",
      "DOLKERSPH           0.0\n",
      "DOLKEROTH           0.0\n",
      "BTUWOOD             0.0\n",
      "CORDSWD             0.0\n",
      "TOTALBTU        80200.0\n",
      "TOTALBTUSPH     26920.0\n",
      "TOTALBTUCOL      2573.5\n",
      "TOTALBTUWTH     12700.5\n",
      "TOTALBTURFG      3548.0\n",
      "TOTALBTUOTH     22935.0\n",
      "TOTALDOL         1831.0\n",
      "TOTALDOLSPH       423.0\n",
      "TOTALDOLCOL        91.0\n",
      "TOTALDOLWTH       240.0\n",
      "TOTALDOLRFG       127.0\n",
      "TOTALDOLOTH       713.0\n",
      "HDD50            1636.5\n",
      "CDD80              30.0\n",
      "GND_HDD65        3850.0\n",
      "WSF                 0.5\n",
      "OA_LAT              3.0\n",
      "GWT                58.0\n",
      "DesignDBT99        19.0\n",
      "DesignDBT1         90.0\n",
      "Length: 135, dtype: float64\n",
      "\n",
      " Medians after scaling:\n",
      " DIVISION        0.0\n",
      "HDD30YR         0.0\n",
      "CDD30YR         0.0\n",
      "NUMFLRS         0.0\n",
      "NUMAPTS         0.0\n",
      "BEDROOMS        0.0\n",
      "OTHROOMS        0.0\n",
      "TOTROOMS        0.0\n",
      "MONRFRI2        0.0\n",
      "MONRFRI3        0.0\n",
      "TVCOLOR         0.0\n",
      "NUMPC           0.0\n",
      "EQUIPNOHEAT     0.0\n",
      "EQUIPM          0.0\n",
      "FUELHEAT        0.0\n",
      "HEATROOM        0.0\n",
      "TEMPHOME        0.0\n",
      "TEMPGONE        0.0\n",
      "TEMPNITE        0.0\n",
      "ACROOMS         0.0\n",
      "TEMPHOMEAC      0.0\n",
      "TEMPGONEAC      0.0\n",
      "TEMPNITEAC      0.0\n",
      "NUMBERAC        0.0\n",
      "NUMCFAN         0.0\n",
      "LGT12           0.0\n",
      "LGT12EE         0.0\n",
      "LGT4            0.0\n",
      "LGT4EE          0.0\n",
      "LGT1            0.0\n",
      "               ... \n",
      "GALLONKERSPH    0.0\n",
      "GALLONKEROTH    0.0\n",
      "BTUKER          0.0\n",
      "BTUKERSPH       0.0\n",
      "BTUKEROTH       0.0\n",
      "DOLLARKER       0.0\n",
      "DOLKERSPH       0.0\n",
      "DOLKEROTH       0.0\n",
      "BTUWOOD         0.0\n",
      "CORDSWD         0.0\n",
      "TOTALBTU        0.0\n",
      "TOTALBTUSPH     0.0\n",
      "TOTALBTUCOL     0.0\n",
      "TOTALBTUWTH     0.0\n",
      "TOTALBTURFG     0.0\n",
      "TOTALBTUOTH     0.0\n",
      "TOTALDOL        0.0\n",
      "TOTALDOLSPH     0.0\n",
      "TOTALDOLCOL     0.0\n",
      "TOTALDOLWTH     0.0\n",
      "TOTALDOLRFG     0.0\n",
      "TOTALDOLOTH     0.0\n",
      "HDD50           0.0\n",
      "CDD80           0.0\n",
      "GND_HDD65       0.0\n",
      "WSF             0.0\n",
      "OA_LAT          0.0\n",
      "GWT             0.0\n",
      "DesignDBT99     0.0\n",
      "DesignDBT1      0.0\n",
      "Length: 135, dtype: float64\n"
     ]
    },
    {
     "name": "stderr",
     "output_type": "stream",
     "text": [
      "/home/sri/anaconda3/lib/python3.6/site-packages/ipykernel_launcher.py:5: SettingWithCopyWarning: \n",
      "A value is trying to be set on a copy of a slice from a DataFrame.\n",
      "Try using .loc[row_indexer,col_indexer] = value instead\n",
      "\n",
      "See the caveats in the documentation: http://pandas.pydata.org/pandas-docs/stable/indexing.html#indexing-view-versus-copy\n",
      "  \"\"\"\n",
      "/home/sri/anaconda3/lib/python3.6/site-packages/pandas/core/indexing.py:543: SettingWithCopyWarning: \n",
      "A value is trying to be set on a copy of a slice from a DataFrame.\n",
      "Try using .loc[row_indexer,col_indexer] = value instead\n",
      "\n",
      "See the caveats in the documentation: http://pandas.pydata.org/pandas-docs/stable/indexing.html#indexing-view-versus-copy\n",
      "  self.obj[item] = s\n"
     ]
    }
   ],
   "source": [
    "rs = RobustScaler()\n",
    "print(\"Medians before scaling:\\n\", Xtr[numerical].median())\n",
    "Xtr[numerical]=rs.fit_transform(Xtr[numerical])\n",
    "print(\"\\n Medians after scaling:\\n\",Xtr[numerical].median())\n",
    "Xte[numerical]=rs.transform(Xte[numerical])"
   ]
  },
  {
   "cell_type": "markdown",
   "metadata": {},
   "source": [
    "MODEL BUILDING FOLLOWED BY RESULTS :"
   ]
  },
  {
   "cell_type": "markdown",
   "metadata": {},
   "source": [
    "CREATING OBJECTS OF 3 DIFFERENT REGRESSORS.\n",
    "DEFINING A SCORER FUCTION,LATER USED IN GRID SEARCH OBJECT"
   ]
  },
  {
   "cell_type": "code",
   "execution_count": 8,
   "metadata": {},
   "outputs": [],
   "source": [
    "reg1= LGBMModel(objective='regression')\n",
    "reg2= ElasticNet()\n",
    "reg3=lr(n_jobs= -1)\n",
    "\n",
    "def MSE(y_true,y_pred):\n",
    "    mse = mean_squared_error(y_true, y_pred)\n",
    "    return mse\n",
    "\n",
    "def scorer():\n",
    "    return make_scorer(MSE, greater_is_better=False)\n"
   ]
  },
  {
   "cell_type": "markdown",
   "metadata": {},
   "source": [
    "CREATING GRID OF HYPERPARAMETERS FOR LGBM.\n",
    "PERFORMING GRID SEARCH ON LGBM REGRESSOR OBJECT CREATED BEFORE"
   ]
  },
  {
   "cell_type": "code",
   "execution_count": 9,
   "metadata": {},
   "outputs": [
    {
     "name": "stderr",
     "output_type": "stream",
     "text": [
      "/home/sri/anaconda3/lib/python3.6/site-packages/sklearn/externals/joblib/externals/loky/process_executor.py:706: UserWarning: A worker stopped while some jobs were given to the executor. This can be caused by a too short worker timeout or by a memory leak.\n",
      "  \"timeout or by a memory leak.\", UserWarning\n",
      "/home/sri/anaconda3/lib/python3.6/site-packages/sklearn/model_selection/_search.py:841: DeprecationWarning: The default of the `iid` parameter will change from True to False in version 0.22 and will be removed in 0.24. This will change numeric results when test-set sizes are unequal.\n",
      "  DeprecationWarning)\n"
     ]
    },
    {
     "data": {
      "text/plain": [
       "GridSearchCV(cv=5, error_score='raise-deprecating',\n",
       "       estimator=LGBMModel(boosting_type='gbdt', class_weight=None, colsample_bytree=1.0,\n",
       "     learning_rate=0.1, max_depth=-1, min_child_samples=20,\n",
       "     min_child_weight=0.001, min_split_gain=0.0, n_estimators=100,\n",
       "     n_jobs=-1, num_leaves=31, objective='regression', random_state=None,\n",
       "     reg_alpha=0.0, reg_lambda=0.0, silent=True, subsample=1.0,\n",
       "     subsample_for_bin=200000, subsample_freq=0),\n",
       "       fit_params=None, iid='warn', n_jobs=-1,\n",
       "       param_grid={'num_leaves': [15, 31, 63, 127, 255], 'bagging_fraction': [0.6, 0.7, 0.8, 0.9], 'feature_fraction': [0.5, 0.7, 0.9], 'learning_rate': [0.1, 0.03334, 0.01, 0.003334]},\n",
       "       pre_dispatch='2*n_jobs', refit=True, return_train_score='warn',\n",
       "       scoring=make_scorer(MSE, greater_is_better=False), verbose=0)"
      ]
     },
     "execution_count": 9,
     "metadata": {},
     "output_type": "execute_result"
    }
   ],
   "source": [
    "param_lgb={'num_leaves':[15, 31, 63, 127, 255],'bagging_fraction' :[0.6,0.7,0.8,0.9],'feature_fraction':[ 0.5,0.7,0.9],'learning_rate':[0.10, 0.03334, 0.01, 0.003334]}\n",
    "\n",
    "gscv1 = GridSearchCV(reg1,param_lgb,scoring=scorer(),n_jobs=-1,cv=5)\n",
    "gscv1.fit(Xtr,ytr,train_wts)"
   ]
  },
  {
   "cell_type": "markdown",
   "metadata": {},
   "source": [
    "CREATING GRID OF HYPERPARAMETERS FOR ELASTIC NET.\n",
    "PERFORMING GRID SEARCH ON ELASTIC NET OBJECT CREATED BEFORE"
   ]
  },
  {
   "cell_type": "code",
   "execution_count": 11,
   "metadata": {},
   "outputs": [
    {
     "data": {
      "text/plain": [
       "GridSearchCV(cv=5, error_score='raise-deprecating',\n",
       "       estimator=ElasticNet(alpha=1.0, copy_X=True, fit_intercept=True, l1_ratio=0.5,\n",
       "      max_iter=1000, normalize=False, positive=False, precompute=False,\n",
       "      random_state=None, selection='cyclic', tol=0.0001, warm_start=False),\n",
       "       fit_params=None, iid='warn', n_jobs=-1,\n",
       "       param_grid={'l1_ratio': [0.05, 0.1, 0.5, 1], 'alpha': [0.01, 0.1, 1, 10], 'max_iter': [1000, 3000, 5000]},\n",
       "       pre_dispatch='2*n_jobs', refit=True, return_train_score='warn',\n",
       "       scoring=make_scorer(MSE, greater_is_better=False), verbose=0)"
      ]
     },
     "execution_count": 11,
     "metadata": {},
     "output_type": "execute_result"
    }
   ],
   "source": [
    "param_enet={'l1_ratio':[0.05,0.1,0.5,1],'alpha':[0.01,0.1,1,10],'max_iter':[1000,3000,5000]}\n",
    "\n",
    "gscv2 = GridSearchCV(reg2,param_enet,scoring=scorer(),n_jobs=-1,cv=5)\n",
    "gscv2.fit(Xtr,ytr,train_wts)"
   ]
  },
  {
   "cell_type": "markdown",
   "metadata": {},
   "source": [
    "CREATING GRID OF HYPERPARAMETERS FOR LINEAR REGRESSION.\n",
    "PERFORMING GRID SEARCH ON LINEAR REGRESSION OBJECT CREATED BEFORE"
   ]
  },
  {
   "cell_type": "code",
   "execution_count": 12,
   "metadata": {},
   "outputs": [
    {
     "name": "stderr",
     "output_type": "stream",
     "text": [
      "/home/sri/anaconda3/lib/python3.6/site-packages/sklearn/model_selection/_search.py:841: DeprecationWarning: The default of the `iid` parameter will change from True to False in version 0.22 and will be removed in 0.24. This will change numeric results when test-set sizes are unequal.\n",
      "  DeprecationWarning)\n"
     ]
    },
    {
     "data": {
      "text/plain": [
       "GridSearchCV(cv=5, error_score='raise-deprecating',\n",
       "       estimator=LinearRegression(copy_X=True, fit_intercept=True, n_jobs=-1, normalize=False),\n",
       "       fit_params=None, iid='warn', n_jobs=-1,\n",
       "       param_grid={'fit_intercept': [True, False]},\n",
       "       pre_dispatch='2*n_jobs', refit=True, return_train_score='warn',\n",
       "       scoring=make_scorer(MSE, greater_is_better=False), verbose=0)"
      ]
     },
     "execution_count": 12,
     "metadata": {},
     "output_type": "execute_result"
    }
   ],
   "source": [
    "param_lr={'fit_intercept':[True,False]}\n",
    "\n",
    "gscv3 = GridSearchCV(reg3,param_lr,scoring=scorer(),n_jobs=-1,cv=5,refit=True)\n",
    "gscv3.fit(Xtr,ytr,train_wts)"
   ]
  },
  {
   "cell_type": "markdown",
   "metadata": {},
   "source": [
    "MAKING PREDICTIONS ON TEST DATA USING THE 3 MODELS GIVEN BY GRID SEARCH\n",
    "PRINTING TEST MSE ON EACH OF THESE 3 MODELS"
   ]
  },
  {
   "cell_type": "code",
   "execution_count": 13,
   "metadata": {},
   "outputs": [
    {
     "name": "stdout",
     "output_type": "stream",
     "text": [
      "TEST DATA MSE FOR LGBM :  3605888.8798391502\n",
      "TEST DATA MSE FOR ELASTIC NET :  2.6254093955372597\n",
      "TEST DATA MSE FOR LINEAR REGRESSION :  0.00010478564554436469\n"
     ]
    }
   ],
   "source": [
    "y_pred_lgb=gscv1.best_estimator_.predict(Xte)\n",
    "y_pred_enet=gscv2.best_estimator_.predict(Xte)\n",
    "y_pred_lr=gscv3.best_estimator_.predict(Xte)\n",
    "\n",
    "print(\"TEST DATA MSE FOR LGBM : \",mean_squared_error(yte.values,y_pred_lgb,test_wts))\n",
    "print(\"TEST DATA MSE FOR ELASTIC NET : \",mean_squared_error(yte.values,y_pred_enet,test_wts))\n",
    "print(\"TEST DATA MSE FOR LINEAR REGRESSION : \",mean_squared_error(yte.values,y_pred_lr,test_wts))"
   ]
  },
  {
   "cell_type": "markdown",
   "metadata": {},
   "source": [
    "PRINTING CV-MSE SCORE OF THE BEST ESTIMATOR OBTAINED FROM GRID SEARCH. THESE VALUES WILL BE NEGATIVE BECAUSE UNIFIED SCORING API ALWAYS MAXIMIZES THE OBJECTIVE FUNCTION.\n",
    "HENCE, THESE SCORES ARE NEGATED TO GET THE ACTUAL VALUES."
   ]
  },
  {
   "cell_type": "code",
   "execution_count": 16,
   "metadata": {},
   "outputs": [
    {
     "name": "stdout",
     "output_type": "stream",
     "text": [
      "BEST CV-MSE SCORE FOR LGBM :  196670.27911505874\n",
      "BEST CV-MSE SCORE FOR ELASTIC NET :  2.3066801889158293\n",
      "BEST CV-MSE SCORE FOR LINEAR REGRESSION :  5161.859224101664\n"
     ]
    }
   ],
   "source": [
    "print(\"BEST CV-MSE SCORE FOR LGBM : \", -gscv1.best_score_)\n",
    "print(\"BEST CV-MSE SCORE FOR ELASTIC NET : \", -gscv2.best_score_)\n",
    "print(\"BEST CV-MSE SCORE FOR LINEAR REGRESSION : \",-gscv3.best_score_)"
   ]
  },
  {
   "cell_type": "markdown",
   "metadata": {},
   "source": [
    "Printing the first 15 most important features (if the selected model is Elastic Net )with their coefficient values.\n",
    "The argsort() performs just ascending sort, but we need descending sort and hence the negatives of the coefficients are sorted."
   ]
  },
  {
   "cell_type": "code",
   "execution_count": 62,
   "metadata": {},
   "outputs": [
    {
     "name": "stdout",
     "output_type": "stream",
     "text": [
      "The 15 most discriminative features with their coefficients are: \n",
      "\n",
      "DesignDBT1 : 4442.72597075642\n",
      "DesignDBT99 : 1912.999187832921\n",
      "GWT : 1745.0518409096235\n",
      "OA_LAT : 1268.8036239207518\n",
      "WSF : 1108.054759135953\n",
      "GND_HDD65 : 734.4394256472076\n",
      "CDD80 : 0.2847943995461545\n",
      "HDD50 : 0.03513083829426013\n",
      "IECC_Climate_Pub : 0.00865240427845286\n",
      "SCALEKER : 0.00752762818688332\n",
      "PERIODKR : 0.004894771045537108\n",
      "SCALEFO : 0.004148833226539084\n",
      "PERIODFO : 0.0010417489387493854\n",
      "SCALELP : 0.0009605780126782693\n",
      "PERIODLP : 1.9495888489760106e-05\n"
     ]
    }
   ],
   "source": [
    "import numpy as np\n",
    "feats_coef = gscv2.best_estimator_.coef_\n",
    "index=(-feats_coef).argsort()[:]\n",
    "print(\"The 15 most discriminative features with their coefficients are: \\n\",)\n",
    "for i in range(15):\n",
    "    print(X.columns[index[i]],\":\",feats_coef[index[i]])"
   ]
  },
  {
   "cell_type": "code",
   "execution_count": null,
   "metadata": {},
   "outputs": [],
   "source": []
  }
 ],
 "metadata": {
  "kernelspec": {
   "display_name": "Python 3",
   "language": "python",
   "name": "python3"
  },
  "language_info": {
   "codemirror_mode": {
    "name": "ipython",
    "version": 3
   },
   "file_extension": ".py",
   "mimetype": "text/x-python",
   "name": "python",
   "nbconvert_exporter": "python",
   "pygments_lexer": "ipython3",
   "version": "3.6.8"
  }
 },
 "nbformat": 4,
 "nbformat_minor": 2
}
