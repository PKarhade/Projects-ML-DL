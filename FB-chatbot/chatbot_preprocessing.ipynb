{
 "cells": [
  {
   "cell_type": "code",
   "execution_count": null,
   "metadata": {},
   "outputs": [],
   "source": [
    "import os\n",
    "#os.walk('PATH TO YOUR MESSAGES DIRECTORY')\n",
    "dirr = [x[0] for x in os.walk(os.getcwd())]\n",
    "print(os.getcwd())\n",
    "type(os.walk('PATH TO YOUR MESSAGES DIRECTORY'))"
   ]
  },
  {
   "cell_type": "code",
   "execution_count": null,
   "metadata": {},
   "outputs": [],
   "source": [
    "####### Listing all the directories which have .json files in my fb inbox directory\n",
    "all_jsons =[]\n",
    "for (dirnames,dirr,files) in os.walk(os.getcwd()+'/inbox'):\n",
    "    for file in files:\n",
    "        if file.endswith('.json') : \n",
    "            all_jsons.append(os.path.join(dirnames,file))\n",
    "#print(all_jsons[39])"
   ]
  },
  {
   "cell_type": "code",
   "execution_count": null,
   "metadata": {},
   "outputs": [],
   "source": [
    "#####Extracting the message in a given format for a single person conversation\n",
    "import json\n",
    "lis =[]\n",
    "response = {}\n",
    "\n",
    "for js in all_jsons:\n",
    "    count=0\n",
    "    #print(js) ### Printing all my friend's message folders\n",
    "    with open(js,'r') as f:\n",
    "        data = json.load(f)\n",
    "    for key in data:\n",
    "        if key=='messages':\n",
    "            newData = data[key]\n",
    "            break\n",
    "    myNewString = ''\n",
    "    prev_name =''\n",
    "    senders = set()\n",
    "    for k in range(len(newData)-1,-1,-1):\n",
    "        if 'sender_name' in newData[k] and 'content' in newData[k]:\n",
    "            senders.add(newData[k]['sender_name'])\n",
    "    if len(senders)==1 : continue ### This kicks out messages where I didn't response or where just I messaged :D\n",
    "    flag = False\n",
    "    for j in range(len(newData)-1,-1,-1):\n",
    "        if 'sender_name' in newData[j] and 'content' in newData[j]:\n",
    "            count += 1 # this is just a count of how many conv it's picking in 1 message\n",
    "            #if newData[j]['sender_name']=='Pallavi Karhade' : name = 'Response'\n",
    "            #else : name = 'Message'\n",
    "            name=newData[j]['sender_name']\n",
    "            if name != 'Pallavi Karhade' : flag = True\n",
    "            if flag==False : continue\n",
    "            if prev_name == name : \n",
    "                myNewString += ' '+newData[j]['content']\n",
    "                if name =='Pallavi Karhade' : my_string += ' '+newData[j]['content']\n",
    "                else : your_string += ' '+newData[j]['content']\n",
    "            else: \n",
    "                myNewString += '\\n'+name+':'+newData[j]['content']\n",
    "                if prev_name=='' :\n",
    "                    your_string = newData[j]['content']\n",
    "                    prev_name = name\n",
    "                    continue\n",
    "                if name == 'Pallavi Karhade' :\n",
    "                    response[your_string] = None\n",
    "                    my_string = newData[j]['content']\n",
    "                else :\n",
    "                    response[your_string] = my_string\n",
    "                    your_string = newData[j]['content']\n",
    "            prev_name = name\n",
    "    f= open('decoded.txt','a')\n",
    "    f.write(myNewString)\n",
    "    f.close()\n",
    "    lis.append(count)\n",
    "#print(response)\n",
    "##print(lis) "
   ]
  },
  {
   "cell_type": "code",
   "execution_count": null,
   "metadata": {},
   "outputs": [],
   "source": [
    "### Now deleting all the messages for which I did not reply :D\n",
    "to_be_deleted =[]\n",
    "for key in response:\n",
    "    if response[key]==None : to_be_deleted.append(key)\n",
    "for i in to_be_deleted : del response[i]\n",
    "del to_be_deleted\n",
    "#print(response)"
   ]
  },
  {
   "cell_type": "code",
   "execution_count": null,
   "metadata": {},
   "outputs": [],
   "source": [
    "##### Saving this dictionary as a numpy array\n",
    "import numpy as np\n",
    "np.save('fb_messages_as_dictionary.npy',response)"
   ]
  },
  {
   "cell_type": "code",
   "execution_count": null,
   "metadata": {},
   "outputs": [],
   "source": [
    "##### Creating a corpus and wordsList and count of the words used\n",
    "from collections import Counter\n",
    "import pickle\n",
    "corpus = ''\n",
    "wordList=[]\n",
    "for key in response:\n",
    "    corpus += key+' '+ response[key]+' '\n",
    "count = Counter(corpus.split())\n",
    "for key in count :\n",
    "    wordList.append(key)\n",
    "#print(count)\n",
    "with open('wordList.txt','wb') as f:\n",
    "    pickle.dump(wordList,f)"
   ]
  },
  {
   "cell_type": "code",
   "execution_count": null,
   "metadata": {},
   "outputs": [],
   "source": []
  }
 ],
 "metadata": {
  "kernelspec": {
   "display_name": "Python 3",
   "language": "python",
   "name": "python3"
  },
  "language_info": {
   "codemirror_mode": {
    "name": "ipython",
    "version": 3
   },
   "file_extension": ".py",
   "mimetype": "text/x-python",
   "name": "python",
   "nbconvert_exporter": "python",
   "pygments_lexer": "ipython3",
   "version": "3.6.8"
  }
 },
 "nbformat": 4,
 "nbformat_minor": 2
}
